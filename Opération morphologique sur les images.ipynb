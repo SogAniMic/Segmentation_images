{
 "cells": [
  {
   "cell_type": "markdown",
   "id": "d80744bb",
   "metadata": {},
   "source": [
    "# Opérations morphologiques sur les images"
   ]
  },
  {
   "cell_type": "code",
   "execution_count": 4,
   "id": "c9e2ca44",
   "metadata": {},
   "outputs": [],
   "source": [
    "import numpy as np\n",
    "import matplotlib.pyplot as plt\n",
    "from skimage.io import imread, imshow\n",
    "from skimage.color import rgb2gray, rgb2hsv\n",
    "from skimage.morphology import (area_opening, erosion, dilation, closing, opening, area_closing) \n",
    "from skimage.draw import disk"
   ]
  },
  {
   "cell_type": "markdown",
   "id": "bb428b08",
   "metadata": {},
   "source": [
    "## 1 - Définitions\n",
    " \n",
    " ### Opérations morphologique\n",
    " \n",
    " Elles permettent d'éffectuer des transformations sur la forme des images et plus précisement sur la forme des objets contenus dans les images. \n",
    " \n",
    " \n",
    " #### Elément structurant\n",
    " \n",
    " - Les opérations morphologiques utilisent une matrice de pixels de petite taille appelée éléments structurant\n",
    " \n",
    " - L'élément structurant est utilisé pour parcourir tous les pixels de l'objet d'interêt dans l'image. \n",
    " \n",
    " Ces pixels sont alors transformés et il en resulte une nouvelle image. "
   ]
  },
  {
   "cell_type": "code",
   "execution_count": 5,
   "id": "71ae20c6",
   "metadata": {},
   "outputs": [
    {
     "data": {
      "text/plain": [
       "<matplotlib.image.AxesImage at 0x192e6648280>"
      ]
     },
     "execution_count": 5,
     "metadata": {},
     "output_type": "execute_result"
    },
    {
     "data": {
      "image/png": "[encoded data removed]",
      "text/plain": [
       "<Figure size 432x288 with 1 Axes>"
      ]
     },
     "metadata": {
      "needs_background": "light"
     },
     "output_type": "display_data"
    }
   ],
   "source": [
    "# Exemple d'élement structurant \n",
    "\n",
    "element = np.array([[0,1,0],\n",
    "                    [1,1,1],\n",
    "                    [0,1,0]])\n",
    "plt.imshow(element,cmap='gray')"
   ]
  },
  {
   "cell_type": "markdown",
   "id": "e1684671",
   "metadata": {},
   "source": [
    "### Les modes d'action de l'élément structurant \n",
    "\n",
    "- Fit : Tous les pixels de l'élément structurant recouvrent les pixels d'objet\n",
    "- Hit : Au moins un des pixels de l'élement structurant recouvre les pixels de l'objet\n",
    "- Miss : Aucun des pixels de l'élement structurant ne recouvre les pixels de l'objet\n",
    "\n",
    "### illustration"
   ]
  },
  {
   "attachments": {
    "picture_lescal_morphological.png": {
     "image/png": "[encoded data removed]"
    }
   },
   "cell_type": "markdown",
   "id": "1038862a",
   "metadata": {},
   "source": [
    "![picture_lescal_morphological.png](attachment:picture_lescal_morphological.png)"
   ]
  },
  {
   "cell_type": "markdown",
   "id": "c2501533",
   "metadata": {},
   "source": [
    "## 2 - Opérations morphologiques courantes : l'érosion et la dilatation"
   ]
  },
  {
   "cell_type": "markdown",
   "id": "21f2832e",
   "metadata": {},
   "source": [
    "Les opérations morphologique les plus courantes sont l'érosion et la dialatation\n",
    "\n",
    "### 2 - 1 L'érosion\n",
    "\n",
    "- Elle supprime les éléments sans intèrêt de l'image en conservant les caractéristiques importants\n",
    "\n",
    "- Elle supprime les pixels aux alentours de l'objet\n",
    "\n",
    "- Pour éroder une image, nous promenons l'élement strcuturant sur l'objet d'intèrêt dans l'image. La valeur des pixels de sorte est calculée selon la règle suivante : pixel_de_sortie = 1 si Fit et pixel_de_sortie = 0 si non\n",
    "\n",
    "\n",
    "\n",
    "### 2 - 2 La dilatation\n",
    "\n",
    "- Elle agrandit les pixels de l'image et ajoute des pixels aux alentours de l'objet\n",
    "\n",
    "- Elle rend l'objet plus visible\n",
    "\n",
    "- Elle repart les cassures et les intrusions\n",
    "\n",
    "- Pour dilater une image, nous promenons l'élement structurant sur l'onjet d'intèrêt dans l'image. La valeur des pixels est obtenue avec l'équation suivante : pixel_de_sortie = 1 si Hit et pixel_de_sortie = 0 si non \n",
    "\n",
    "### illustration\n",
    "\n",
    "Soit l'image suivante constituée de 2 cercles adjancants : "
   ]
  },
  {
   "cell_type": "code",
   "execution_count": 8,
   "id": "1811a29d",
   "metadata": {},
   "outputs": [
    {
     "data": {
      "text/plain": [
       "<matplotlib.image.AxesImage at 0x192e67524c0>"
      ]
     },
     "execution_count": 8,
     "metadata": {},
     "output_type": "execute_result"
    },
    {
     "data": {
      "image/png": "[encoded data removed]",
      "text/plain": [
       "<Figure size 432x288 with 1 Axes>"
      ]
     },
     "metadata": {
      "needs_background": "light"
     },
     "output_type": "display_data"
    }
   ],
   "source": [
    "circle_image = np.zeros((25,40))\n",
    "circle_image[disk((12,12),8)] = 1 \n",
    "circle_image[disk((12,28),8)] = 1 \n",
    "np.random.seed(2)\n",
    "for x in range (20) : \n",
    "    circle_image[np.random.randint(25), np.random.randint(40)] = 1 \n",
    "imshow(circle_image)"
   ]
  },
  {
   "cell_type": "code",
   "execution_count": 10,
   "id": "fc56ac4a",
   "metadata": {},
   "outputs": [
    {
     "data": {
      "text/plain": [
       "Text(0.5, 1.0, 'Image dilatée')"
      ]
     },
     "execution_count": 10,
     "metadata": {},
     "output_type": "execute_result"
    },
    {
     "data": {
      "image/png": "[encoded data removed]",
      "text/plain": [
       "<Figure size 1080x360 with 2 Axes>"
      ]
     },
     "metadata": {
      "needs_background": "light"
     },
     "output_type": "display_data"
    }
   ],
   "source": [
    "# Nous allons eroder, dillater et afficher l'image \n",
    "\n",
    "fig,ax = plt.subplots(1,2,figsize = (15,5))\n",
    "\n",
    "ax[0].imshow(erosion(circle_image,element), cmap = 'gray')\n",
    "\n",
    "ax[0].set_title('Image erodée')\n",
    "\n",
    "ax[1].imshow(dilation(circle_image,element), cmap='gray')\n",
    "\n",
    "ax[1].set_title('Image dilatée')"
   ]
  },
  {
   "cell_type": "markdown",
   "id": "62af2449",
   "metadata": {},
   "source": [
    "### 2 - 3 Multi-erosion et multi-dilataion \n",
    "\n",
    "- Pour certaine image, il est utile de repéter plusieurs fois des opérations d'érosion et de dilataion \n",
    "\n",
    "- La multi-érosion et la muti-dilatation se justifie lorsque l'image contient beaucoup de pixels \n",
    "\n",
    "\n",
    "### illustration \n",
    "\n",
    "On définis deux fonctions permettant de faire une multi-erosion et une multi-dilatation"
   ]
  },
  {
   "cell_type": "code",
   "execution_count": 11,
   "id": "5101b669",
   "metadata": {},
   "outputs": [],
   "source": [
    "def multi_erosion (image,nbre,element_structurant) :\n",
    "    \n",
    "    for i in range (0,nbre) :\n",
    "        \n",
    "        image = erosion(image,element_structurant)\n",
    "        \n",
    "    return image\n",
    "\n",
    " \n",
    "def multi_dilatation (image,nbre,element_structurant) :\n",
    "    \n",
    "    for i in range (0,nbre) :\n",
    "        \n",
    "        image = dilation(image,element_structurant)\n",
    "        \n",
    "    return image"
   ]
  },
  {
   "cell_type": "code",
   "execution_count": 14,
   "id": "784e8e2b",
   "metadata": {},
   "outputs": [
    {
     "data": {
      "text/plain": [
       "Text(0.5, 1.0, 'Image 2 fois dilaté')"
      ]
     },
     "execution_count": 14,
     "metadata": {},
     "output_type": "execute_result"
    },
    {
     "data": {
      "image/png": "[encoded data removed]",
      "text/plain": [
       "<Figure size 1080x360 with 2 Axes>"
      ]
     },
     "metadata": {
      "needs_background": "light"
     },
     "output_type": "display_data"
    }
   ],
   "source": [
    "# Application \n",
    "\n",
    "fig, ax = plt.subplots(1,2,figsize = (15,5) )\n",
    "\n",
    "ax[0].imshow(multi_erosion(circle_image,2,element), cmap='gray')\n",
    "\n",
    "ax[0].set_title('Image 2 fois erodée')\n",
    "\n",
    "ax[1].imshow(multi_dilatation(circle_image,2,element), cmap='gray')\n",
    "\n",
    "ax[1].set_title('Image 2 fois dilaté')"
   ]
  },
  {
   "cell_type": "code",
   "execution_count": 15,
   "id": "878e1c28",
   "metadata": {},
   "outputs": [
    {
     "data": {
      "text/plain": [
       "Text(0.5, 1.0, 'Image 2 fois dilaté')"
      ]
     },
     "execution_count": 15,
     "metadata": {},
     "output_type": "execute_result"
    },
    {
     "data": {
      "image/png": "[encoded data removed]",
      "text/plain": [
       "<Figure size 1080x360 with 2 Axes>"
      ]
     },
     "metadata": {
      "needs_background": "light"
     },
     "output_type": "display_data"
    }
   ],
   "source": [
    "# Application \n",
    "\n",
    "fig, ax = plt.subplots(1,2,figsize = (15,5) )\n",
    "\n",
    "ax[0].imshow(multi_erosion(circle_image,4,element), cmap='gray')\n",
    "\n",
    "ax[0].set_title('Image 2 fois erodée')\n",
    "\n",
    "ax[1].imshow(multi_dilatation(circle_image,4,element), cmap='gray')\n",
    "\n",
    "ax[1].set_title('Image 2 fois dilaté')"
   ]
  },
  {
   "cell_type": "code",
   "execution_count": null,
   "id": "1b028c82",
   "metadata": {},
   "outputs": [],
   "source": []
  }
 ],
 "metadata": {
  "kernelspec": {
   "display_name": "Python 3 (ipykernel)",
   "language": "python",
   "name": "python3"
  },
  "language_info": {
   "codemirror_mode": {
    "name": "ipython",
    "version": 3
   },
   "file_extension": ".py",
   "mimetype": "text/x-python",
   "name": "python",
   "nbconvert_exporter": "python",
   "pygments_lexer": "ipython3",
   "version": "3.9.7"
  }
 },
 "nbformat": 4,
 "nbformat_minor": 5
}
